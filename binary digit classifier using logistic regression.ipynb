{
 "cells": [
  {
   "cell_type": "code",
   "execution_count": 12,
   "id": "e5f23d6a-1b36-4c77-81c9-288fa6d204d0",
   "metadata": {},
   "outputs": [],
   "source": [
    "import numpy as np\n",
    "import random\n",
    "import matplotlib.pyplot as plt\n",
    "import torch\n",
    "from torchvision import datasets,transforms\n",
    "from torch.utils.data import DataLoader,Subset\n",
    "import pickle"
   ]
  },
  {
   "cell_type": "markdown",
   "id": "793183cd-cb0d-4ed1-8315-b9b429583c95",
   "metadata": {},
   "source": [
    "#### transforming each image into a tensor of shape [C,H,W]"
   ]
  },
  {
   "cell_type": "code",
   "execution_count": 2,
   "id": "5f51fb60-9955-4869-b4f5-b71387dc5565",
   "metadata": {},
   "outputs": [],
   "source": [
    "transform_image=transforms.Compose([\n",
    "    transforms.ToTensor(),\n",
    "    transforms.Lambda(lambda x: x.view(-1))])"
   ]
  },
  {
   "cell_type": "markdown",
   "id": "3e0fcf27-03ad-4e02-a594-81675a164194",
   "metadata": {},
   "source": [
    "#### loading the dataset and applying the transformation"
   ]
  },
  {
   "cell_type": "code",
   "execution_count": null,
   "id": "0536c1d7-77d5-498d-9624-330386cf2200",
   "metadata": {},
   "outputs": [],
   "source": [
    "mnist_train=datasets.MNIST(root='./mnist_data',train=True,download=True,transform=transform_image)\n",
    "mnist_test=datasets.MNIST(root='./mnist_data', train=False,download=True,transform=transform_image)"
   ]
  },
  {
   "cell_type": "markdown",
   "id": "33282af8-cdee-4a2b-bf4f-490a3b7b5bad",
   "metadata": {},
   "source": [
    "#### visualizing the mnist dataset, using subplots"
   ]
  },
  {
   "cell_type": "markdown",
   "id": "a8b3799d-fea1-494c-a3ea-b5a67ff2ba11",
   "metadata": {},
   "source": [
    "#### selecting the images with labels 0 and 1"
   ]
  },
  {
   "cell_type": "code",
   "execution_count": 4,
   "id": "47792346-8529-463e-8081-b136d7bdb66f",
   "metadata": {},
   "outputs": [],
   "source": [
    "indices_train=[i for i,(image,label) in enumerate(mnist_train) if label in (0,1)]\n",
    "mnist_train_binary=Subset(mnist_train,indices_train)\n",
    "indices_test=[i for i,(image,label) in enumerate(mnist_test) if label in (0,1)]\n",
    "mnist_test_binary=Subset(mnist_test,indices_test)"
   ]
  },
  {
   "cell_type": "markdown",
   "id": "d3016844-c175-459a-b239-cbeaa45199a1",
   "metadata": {},
   "source": [
    "#### using the dataloader functionality to create batches of size 64"
   ]
  },
  {
   "cell_type": "code",
   "execution_count": 5,
   "id": "9218fe6a-861f-4a08-896f-dacccaf9607f",
   "metadata": {},
   "outputs": [],
   "source": [
    "train_loader=DataLoader(mnist_train_binary, batch_size=64, shuffle=True)"
   ]
  },
  {
   "cell_type": "code",
   "execution_count": 6,
   "id": "3fd8c8e8-7df1-4a62-9299-ee7baf9c8953",
   "metadata": {},
   "outputs": [],
   "source": [
    "class LogisticRegression:\n",
    "    def __init__(self):\n",
    "        self.w=torch.randn(784)*0.01\n",
    "        self.b=torch.tensor(0.0)\n",
    "        if torch.cuda.is_available():\n",
    "            self.w=self.w.to('cuda')\n",
    "            self.b=self.b.to('cuda')\n",
    "            \n",
    "    def sigmoid(self,z):\n",
    "        return 1/(1+torch.exp(-z))\n",
    "        \n",
    "    def BCE_loss(self,X_train,y_train):\n",
    "        z=(X_train@self.w)+self.b\n",
    "        y_pred=self.sigmoid(z)\n",
    "        y_pred=torch.clamp(y_pred,min=1e-7,max=1-1e-7)\n",
    "        BCEloss=-(y_train*torch.log(y_pred)+(1-y_train)*torch.log(1-(y_pred)))\n",
    "        loss=BCEloss.mean()\n",
    "        return loss\n",
    "\n",
    "    def gradient_descent(self,X_train,y_train,alpha):\n",
    "        z=(X_train@self.w)+self.b\n",
    "        y_pred=self.sigmoid(z)\n",
    "        y_pred=torch.clamp(y_pred,min=1e-7,max=1-1e-7)\n",
    "        w_grad=(X_train.T)@(y_pred-y_train)\n",
    "        b_grad=sum(y_pred-y_train)\n",
    "        self.w-=w_grad*alpha*len(X_train)\n",
    "        self.b-=b_grad*alpha*len(X_train)\n",
    "        return self.w,self.b\n",
    "    \n",
    "    def predict(self,X_test):\n",
    "        z=X_test@self.w+self.b\n",
    "        p=self.sigmoid(z)\n",
    "        if p>0.5:\n",
    "            y_pred=1\n",
    "        else:\n",
    "            y_pred=0\n",
    "        return y_pred"
   ]
  },
  {
   "cell_type": "code",
   "execution_count": 7,
   "id": "a6caba2c-d257-4770-831f-48fdaa05c269",
   "metadata": {},
   "outputs": [
    {
     "name": "stdout",
     "output_type": "stream",
     "text": [
      "tensor(0.2944, device='cuda:0')\n"
     ]
    }
   ],
   "source": [
    "epochs=100\n",
    "for _ in range(epochs):\n",
    "    for images_batch,labels_batch in train_loader:\n",
    "        X_train=images_batch\n",
    "        y_train=labels_batch\n",
    "        if torch.cuda.is_available():\n",
    "            X_train=X_train.to('cuda')\n",
    "            y_train=y_train.to('cuda')\n",
    "        model=LogisticRegression()\n",
    "        model.gradient_descent(X_train,y_train,alpha=0.01)\n",
    "print(model.BCE_loss(X_train,y_train))"
   ]
  },
  {
   "cell_type": "code",
   "execution_count": null,
   "id": "5564fa51-eafd-4a3c-a2cb-4906d54fe21e",
   "metadata": {},
   "outputs": [],
   "source": [
    "count=0\n",
    "for image,label in mnist_test_binary:\n",
    "    X_test=image\n",
    "    if torch.cuda.is_available:\n",
    "        X_test=X_test.to('cuda')\n",
    "    print(f' actual value= {label}, predicted value= {model.predict(X_test)}')\n",
    "    if model.predict(X_test)==label:\n",
    "        count+=1"
   ]
  },
  {
   "cell_type": "code",
   "execution_count": 9,
   "id": "25571d52-2894-4c13-87cb-88c7a34a0952",
   "metadata": {},
   "outputs": [
    {
     "name": "stdout",
     "output_type": "stream",
     "text": [
      " percentage accuracy of my model= 99.76359338061465\n"
     ]
    }
   ],
   "source": [
    "Accuracy=count/len(mnist_test_binary)\n",
    "print(f\" percentage accuracy of my model= {Accuracy*100}\")"
   ]
  },
  {
   "cell_type": "code",
   "execution_count": 13,
   "id": "2199e86b-6706-487a-a35e-e42f37979531",
   "metadata": {},
   "outputs": [],
   "source": [
    "with open('trained_model.pkl', 'wb') as f:\n",
    "    pickle.dump(model, f)"
   ]
  },
  {
   "cell_type": "code",
   "execution_count": null,
   "id": "1346c577-d99a-4fd1-8b72-10f4f414f32a",
   "metadata": {},
   "outputs": [],
   "source": []
  }
 ],
 "metadata": {
  "kernelspec": {
   "display_name": "Python(ENV_1)",
   "language": "python",
   "name": "env_1"
  },
  "language_info": {
   "codemirror_mode": {
    "name": "ipython",
    "version": 3
   },
   "file_extension": ".py",
   "mimetype": "text/x-python",
   "name": "python",
   "nbconvert_exporter": "python",
   "pygments_lexer": "ipython3",
   "version": "3.12.4"
  }
 },
 "nbformat": 4,
 "nbformat_minor": 5
}
